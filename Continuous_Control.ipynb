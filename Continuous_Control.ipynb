{
 "cells": [
  {
   "cell_type": "markdown",
   "metadata": {},
   "source": [
    "# Continuous Control\n",
    "\n",
    "---\n",
    "\n",
    "You are welcome to use this coding environment to train your agent for the project.  Follow the instructions below to get started!\n",
    "\n",
    "### 1. Start the Environment\n",
    "\n",
    "Run the next code cell to install a few packages.  This line will take a few minutes to run!"
   ]
  },
  {
   "cell_type": "code",
   "execution_count": 1,
   "metadata": {},
   "outputs": [
    {
     "name": "stdout",
     "output_type": "stream",
     "text": [
      "\u001b[31mtensorflow 1.7.1 has requirement numpy>=1.13.3, but you'll have numpy 1.12.1 which is incompatible.\u001b[0m\r\n",
      "\u001b[31mipython 6.5.0 has requirement prompt-toolkit<2.0.0,>=1.0.15, but you'll have prompt-toolkit 3.0.5 which is incompatible.\u001b[0m\r\n"
     ]
    }
   ],
   "source": [
    "!pip -q install ./python"
   ]
  },
  {
   "cell_type": "markdown",
   "metadata": {},
   "source": [
    "The environments corresponding to both versions of the environment are already saved in the Workspace and can be accessed at the file paths provided below.  \n",
    "\n",
    "Please select one of the two options below for loading the environment."
   ]
  },
  {
   "cell_type": "code",
   "execution_count": 2,
   "metadata": {},
   "outputs": [
    {
     "name": "stderr",
     "output_type": "stream",
     "text": [
      "INFO:unityagents:\n",
      "'Academy' started successfully!\n",
      "Unity Academy name: Academy\n",
      "        Number of Brains: 1\n",
      "        Number of External Brains : 1\n",
      "        Lesson number : 0\n",
      "        Reset Parameters :\n",
      "\t\tgoal_size -> 5.0\n",
      "\t\tgoal_speed -> 1.0\n",
      "Unity brain name: ReacherBrain\n",
      "        Number of Visual Observations (per agent): 0\n",
      "        Vector Observation space type: continuous\n",
      "        Vector Observation space size (per agent): 33\n",
      "        Number of stacked Vector Observation: 1\n",
      "        Vector Action space type: continuous\n",
      "        Vector Action space size (per agent): 4\n",
      "        Vector Action descriptions: , , , \n"
     ]
    }
   ],
   "source": [
    "from unityagents import UnityEnvironment\n",
    "import numpy as np\n",
    "\n",
    "# select this option to load version 2 (with 20 agents) of the environment\n",
    "env = UnityEnvironment(file_name='/data/Reacher_Linux_NoVis/Reacher.x86_64')"
   ]
  },
  {
   "cell_type": "markdown",
   "metadata": {},
   "source": [
    "Environments contain **_brains_** which are responsible for deciding the actions of their associated agents. Here we check for the first brain available, and set it as the default brain we will be controlling from Python."
   ]
  },
  {
   "cell_type": "code",
   "execution_count": 3,
   "metadata": {},
   "outputs": [],
   "source": [
    "# get the default brain\n",
    "brain_name = env.brain_names[0]\n",
    "brain = env.brains[brain_name]"
   ]
  },
  {
   "cell_type": "markdown",
   "metadata": {},
   "source": [
    "### 2. Examine the State and Action Spaces\n",
    "\n",
    "Run the code cell below to print some information about the environment."
   ]
  },
  {
   "cell_type": "code",
   "execution_count": 4,
   "metadata": {},
   "outputs": [
    {
     "name": "stdout",
     "output_type": "stream",
     "text": [
      "Number of agents: 20\n",
      "Size of each action: 4\n",
      "There are 20 agents. Each observes a state with length: 33\n",
      "The state for the first agent looks like: [  0.00000000e+00  -4.00000000e+00   0.00000000e+00   1.00000000e+00\n",
      "  -0.00000000e+00  -0.00000000e+00  -4.37113883e-08   0.00000000e+00\n",
      "   0.00000000e+00   0.00000000e+00   0.00000000e+00   0.00000000e+00\n",
      "   0.00000000e+00   0.00000000e+00  -1.00000000e+01   0.00000000e+00\n",
      "   1.00000000e+00  -0.00000000e+00  -0.00000000e+00  -4.37113883e-08\n",
      "   0.00000000e+00   0.00000000e+00   0.00000000e+00   0.00000000e+00\n",
      "   0.00000000e+00   0.00000000e+00   5.75471878e+00  -1.00000000e+00\n",
      "   5.55726624e+00   0.00000000e+00   1.00000000e+00   0.00000000e+00\n",
      "  -1.68164849e-01]\n"
     ]
    }
   ],
   "source": [
    "# reset the environment\n",
    "env_info = env.reset(train_mode=True)[brain_name]\n",
    "\n",
    "# number of agents\n",
    "num_agents = len(env_info.agents)\n",
    "print('Number of agents:', num_agents)\n",
    "\n",
    "# size of each action\n",
    "action_size = brain.vector_action_space_size\n",
    "print('Size of each action:', action_size)\n",
    "\n",
    "# examine the state space \n",
    "states = env_info.vector_observations\n",
    "state_size = states.shape[1]\n",
    "print('There are {} agents. Each observes a state with length: {}'.format(states.shape[0], state_size))\n",
    "print('The state for the first agent looks like:', states[0])"
   ]
  },
  {
   "cell_type": "markdown",
   "metadata": {},
   "source": [
    "### 3. Take Random Actions in the Environment\n",
    "\n",
    "In the next code cell, you will learn how to use the Python API to control the agent and receive feedback from the environment.\n",
    "\n",
    "Note that **in this coding environment, you will not be able to watch the agents while they are training**, and you should set `train_mode=True` to restart the environment."
   ]
  },
  {
   "cell_type": "code",
   "execution_count": 5,
   "metadata": {},
   "outputs": [],
   "source": [
    "# env_info = env.reset(train_mode=True)[brain_name]      # reset the environment    \n",
    "# states = env_info.vector_observations                  # get the current state (for each agent)\n",
    "# scores = np.zeros(num_agents)                          # initialize the score (for each agent)\n",
    "# while True:\n",
    "#     actions = np.random.randn(num_agents, action_size) # select an action (for each agent)\n",
    "#     actions = np.clip(actions, -1, 1)                  # all actions between -1 and 1\n",
    "#     env_info = env.step(actions)[brain_name]           # send all actions to tne environment\n",
    "#     next_states = env_info.vector_observations         # get next state (for each agent)\n",
    "#     rewards = env_info.rewards                         # get reward (for each agent)\n",
    "#     dones = env_info.local_done                        # see if episode finished\n",
    "#     scores += env_info.rewards                         # update the score (for each agent)\n",
    "#     states = next_states                               # roll over states to next time step\n",
    "#     if np.any(dones):                                  # exit loop if episode finished\n",
    "#         break\n",
    "# print('Total score (averaged over agents) this episode: {}'.format(np.mean(scores)))"
   ]
  },
  {
   "cell_type": "markdown",
   "metadata": {},
   "source": [
    "When finished, you can close the environment."
   ]
  },
  {
   "cell_type": "code",
   "execution_count": 6,
   "metadata": {},
   "outputs": [],
   "source": [
    "# env.close()"
   ]
  },
  {
   "cell_type": "markdown",
   "metadata": {},
   "source": [
    "### 4. It's Your Turn!\n",
    "\n",
    "Now it's your turn to train your own agent to solve the environment!  A few **important notes**:\n",
    "- When training the environment, set `train_mode=True`, so that the line for resetting the environment looks like the following:\n",
    "```python\n",
    "env_info = env.reset(train_mode=True)[brain_name]\n",
    "```\n",
    "- To structure your work, you're welcome to work directly in this Jupyter notebook, or you might like to start over with a new file!  You can see the list of files in the workspace by clicking on **_Jupyter_** in the top left corner of the notebook.\n",
    "- In this coding environment, you will not be able to watch the agents while they are training.  However, **_after training the agents_**, you can download the saved model weights to watch the agents on your own machine! "
   ]
  },
  {
   "cell_type": "code",
   "execution_count": 7,
   "metadata": {},
   "outputs": [],
   "source": [
    "from collections import deque\n",
    "from ddpg_agent import Agent\n",
    "import torch\n",
    "import matplotlib.pyplot as plt\n",
    "\n",
    "\"\"\"\n",
    "Implementation of DDPG - an algorithm which concurrently learns a Q-function and a policy.\n",
    "\n",
    "Params:\n",
    "    episodes - integer representing maximum number of iterations\n",
    "Return:\n",
    "    scores - list of all averages of all the agents scores for each episode \n",
    "\"\"\"\n",
    "def deep_deterministic_policy_gradient(episodes = 1000):\n",
    "    scores_100 = deque(maxlen = 100)\n",
    "    scores = []\n",
    "    \n",
    "    for episode in range(episodes):\n",
    "        # reset the environment, get current state and \n",
    "        # agents scores (for each of the 20 agents)\n",
    "        environment = env.reset(train_mode = True)[brain_name]\n",
    "        curr_states = environment.vector_observations\n",
    "        curr_agents_scores = np.zeros(num_agents)\n",
    "        mean_score = 0\n",
    "        agent.reset()\n",
    "        \n",
    "        for step in range(2000):\n",
    "            # send all actions and get next states and rewards\n",
    "            curr_actions = agent.act(curr_states)\n",
    "            environment = env.step(curr_actions)[brain_name]\n",
    "            next_states = environment.vector_observations\n",
    "            curr_rewards = environment.rewards\n",
    "            \n",
    "            # check if the episode is finished\n",
    "            is_finished = environment.local_done\n",
    "            \n",
    "            # make a next step, update states and scores\n",
    "            agent.step(curr_states, curr_actions, curr_rewards, next_states, is_finished, step)\n",
    "            curr_states = next_states\n",
    "            curr_agents_scores += curr_rewards\n",
    "            \n",
    "            if np.any(is_finished): break\n",
    "        \n",
    "        # update scores and 100 continuoues scores lists\n",
    "        curr_score = np.mean(curr_agents_scores)\n",
    "        scores.append(np.mean(curr_score))\n",
    "        scores_100.append(np.mean(curr_score))\n",
    "        \n",
    "        print('Episode: {}, Score: {}, Max_Score: {}'.format(episode, curr_score, np.max(scores)))\n",
    "        \n",
    "        if episode != 0 and episode % 10 == 0:\n",
    "            print('Current average:', np.mean(scores_100))\n",
    "            \n",
    "        # check if the environment is solved\n",
    "        if len(scores_100) == 100 and np.mean(scores_100) >= 30:\n",
    "            torch.save(agent.actor_local.state_dict(), 'actor_weights.pth')\n",
    "            torch.save(agent.critic_local.state_dict(), 'critic_weights.pth')\n",
    "            break\n",
    "              \n",
    "    return  scores"
   ]
  },
  {
   "cell_type": "code",
   "execution_count": 8,
   "metadata": {},
   "outputs": [
    {
     "name": "stdout",
     "output_type": "stream",
     "text": [
      "Episode: 0, Score: 0.5589999875053764, Max_Score: 0.5589999875053764\n",
      "Episode: 1, Score: 0.27799999378621576, Max_Score: 0.5589999875053764\n",
      "Episode: 2, Score: 0.12099999729543924, Max_Score: 0.5589999875053764\n",
      "Episode: 3, Score: 0.08849999802187085, Max_Score: 0.5589999875053764\n",
      "Episode: 4, Score: 0.03899999912828207, Max_Score: 0.5589999875053764\n",
      "Episode: 5, Score: 0.052999998815357684, Max_Score: 0.5589999875053764\n",
      "Episode: 6, Score: 0.09749999782070518, Max_Score: 0.5589999875053764\n",
      "Episode: 7, Score: 0.04949999889358878, Max_Score: 0.5589999875053764\n",
      "Episode: 8, Score: 0.05049999887123704, Max_Score: 0.5589999875053764\n",
      "Episode: 9, Score: 0.1289999971166253, Max_Score: 0.5589999875053764\n",
      "Episode: 10, Score: 0.0549999987706542, Max_Score: 0.5589999875053764\n",
      "Current average: 0.138181815093\n",
      "Episode: 11, Score: 0.040499999094754456, Max_Score: 0.5589999875053764\n",
      "Episode: 12, Score: 0.11999999731779099, Max_Score: 0.5589999875053764\n",
      "Episode: 13, Score: 0.1599999964237213, Max_Score: 0.5589999875053764\n",
      "Episode: 14, Score: 0.135499996971339, Max_Score: 0.5589999875053764\n",
      "Episode: 15, Score: 0.18849999578669668, Max_Score: 0.5589999875053764\n",
      "Episode: 16, Score: 0.20399999544024466, Max_Score: 0.5589999875053764\n",
      "Episode: 17, Score: 0.48049998925998805, Max_Score: 0.5589999875053764\n",
      "Episode: 18, Score: 0.6404999856837094, Max_Score: 0.6404999856837094\n",
      "Episode: 19, Score: 0.36899999175220727, Max_Score: 0.6404999856837094\n",
      "Episode: 20, Score: 0.6399999856948853, Max_Score: 0.6404999856837094\n",
      "Current average: 0.214214280926\n",
      "Episode: 21, Score: 0.6964999844320119, Max_Score: 0.6964999844320119\n",
      "Episode: 22, Score: 1.2909999711439013, Max_Score: 1.2909999711439013\n",
      "Episode: 23, Score: 1.5239999659359456, Max_Score: 1.5239999659359456\n",
      "Episode: 24, Score: 1.4899999666959047, Max_Score: 1.5239999659359456\n",
      "Episode: 25, Score: 1.5124999661929905, Max_Score: 1.5239999659359456\n",
      "Episode: 26, Score: 1.7319999612867831, Max_Score: 1.7319999612867831\n",
      "Episode: 27, Score: 1.696999962069094, Max_Score: 1.7319999612867831\n",
      "Episode: 28, Score: 1.8364999589510262, Max_Score: 1.8364999589510262\n",
      "Episode: 29, Score: 1.8749999580904841, Max_Score: 1.8749999580904841\n",
      "Episode: 30, Score: 2.005999955162406, Max_Score: 2.005999955162406\n",
      "Current average: 0.650290308046\n",
      "Episode: 31, Score: 2.223999950289726, Max_Score: 2.223999950289726\n",
      "Episode: 32, Score: 2.3759999468922617, Max_Score: 2.3759999468922617\n",
      "Episode: 33, Score: 2.8904999353922904, Max_Score: 2.8904999353922904\n",
      "Episode: 34, Score: 3.3399999253451824, Max_Score: 3.3399999253451824\n",
      "Episode: 35, Score: 3.02849993230775, Max_Score: 3.3399999253451824\n",
      "Episode: 36, Score: 3.3829999243840576, Max_Score: 3.3829999243840576\n",
      "Episode: 37, Score: 3.9414999119006096, Max_Score: 3.9414999119006096\n",
      "Episode: 38, Score: 4.556999898143113, Max_Score: 4.556999898143113\n",
      "Episode: 39, Score: 4.44049990074709, Max_Score: 4.556999898143113\n",
      "Episode: 40, Score: 4.4989998994395135, Max_Score: 4.556999898143113\n",
      "Current average: 1.33753655547\n",
      "Episode: 41, Score: 4.2054999059997495, Max_Score: 4.556999898143113\n",
      "Episode: 42, Score: 5.306999881379307, Max_Score: 5.306999881379307\n",
      "Episode: 43, Score: 4.841999891772867, Max_Score: 5.306999881379307\n",
      "Episode: 44, Score: 5.5159998767077925, Max_Score: 5.5159998767077925\n",
      "Episode: 45, Score: 5.303999881446361, Max_Score: 5.5159998767077925\n",
      "Episode: 46, Score: 5.876499868649989, Max_Score: 5.876499868649989\n",
      "Episode: 47, Score: 7.103999841213226, Max_Score: 7.103999841213226\n",
      "Episode: 48, Score: 6.049999864771962, Max_Score: 7.103999841213226\n",
      "Episode: 49, Score: 7.031499842833727, Max_Score: 7.103999841213226\n",
      "Episode: 50, Score: 7.7604998265393075, Max_Score: 7.7604998265393075\n",
      "Current average: 2.23207838148\n",
      "Episode: 51, Score: 8.796999803371728, Max_Score: 8.796999803371728\n",
      "Episode: 52, Score: 7.162499839905649, Max_Score: 8.796999803371728\n",
      "Episode: 53, Score: 7.486499832663685, Max_Score: 8.796999803371728\n",
      "Episode: 54, Score: 9.073999797180296, Max_Score: 9.073999797180296\n",
      "Episode: 55, Score: 8.27049981513992, Max_Score: 9.073999797180296\n",
      "Episode: 56, Score: 8.619999807327986, Max_Score: 9.073999797180296\n",
      "Episode: 57, Score: 8.936999800242484, Max_Score: 9.073999797180296\n",
      "Episode: 58, Score: 9.2439997933805, Max_Score: 9.2439997933805\n",
      "Episode: 59, Score: 9.330999791435897, Max_Score: 9.330999791435897\n",
      "Episode: 60, Score: 9.613999785110355, Max_Score: 9.613999785110355\n",
      "Current average: 3.28479500855\n",
      "Episode: 61, Score: 9.063999797403813, Max_Score: 9.613999785110355\n",
      "Episode: 62, Score: 9.667499783914536, Max_Score: 9.667499783914536\n",
      "Episode: 63, Score: 9.934999777935445, Max_Score: 9.934999777935445\n",
      "Episode: 64, Score: 10.306999769620598, Max_Score: 10.306999769620598\n",
      "Episode: 65, Score: 10.203999771922827, Max_Score: 10.306999769620598\n",
      "Episode: 66, Score: 10.825499758031219, Max_Score: 10.825499758031219\n",
      "Episode: 67, Score: 10.699499760847539, Max_Score: 10.825499758031219\n",
      "Episode: 68, Score: 11.071999752521515, Max_Score: 11.071999752521515\n",
      "Episode: 69, Score: 10.862499757204205, Max_Score: 11.071999752521515\n",
      "Episode: 70, Score: 12.215499726962298, Max_Score: 12.215499726962298\n",
      "Current average: 4.29894356588\n",
      "Episode: 71, Score: 12.510999720357358, Max_Score: 12.510999720357358\n",
      "Episode: 72, Score: 11.885999734327196, Max_Score: 12.510999720357358\n",
      "Episode: 73, Score: 11.913499733712523, Max_Score: 12.510999720357358\n",
      "Episode: 74, Score: 12.959999710321426, Max_Score: 12.959999710321426\n",
      "Episode: 75, Score: 12.928499711025506, Max_Score: 12.959999710321426\n",
      "Episode: 76, Score: 13.338499701861291, Max_Score: 13.338499701861291\n",
      "Episode: 77, Score: 13.780499691981822, Max_Score: 13.780499691981822\n",
      "Episode: 78, Score: 13.937999688461423, Max_Score: 13.937999688461423\n",
      "Episode: 79, Score: 14.517499675508589, Max_Score: 14.517499675508589\n",
      "Episode: 80, Score: 13.733499693032353, Max_Score: 14.517499675508589\n",
      "Current average: 5.3917529659\n",
      "Episode: 81, Score: 16.737499625887722, Max_Score: 16.737499625887722\n",
      "Episode: 82, Score: 15.934999643824995, Max_Score: 16.737499625887722\n",
      "Episode: 83, Score: 16.950999621115624, Max_Score: 16.950999621115624\n",
      "Episode: 84, Score: 17.14899961668998, Max_Score: 17.14899961668998\n",
      "Episode: 85, Score: 19.599499561917035, Max_Score: 19.599499561917035\n",
      "Episode: 86, Score: 19.617499561514705, Max_Score: 19.617499561514705\n",
      "Episode: 87, Score: 21.996999508328734, Max_Score: 21.996999508328734\n",
      "Episode: 88, Score: 20.89099953304976, Max_Score: 21.996999508328734\n",
      "Episode: 89, Score: 21.155499527137728, Max_Score: 21.996999508328734\n",
      "Episode: 90, Score: 24.709499447699635, Max_Score: 24.709499447699635\n",
      "Current average: 6.93928006468\n",
      "Episode: 91, Score: 24.327999456226827, Max_Score: 24.709499447699635\n",
      "Episode: 92, Score: 25.090499439183624, Max_Score: 25.090499439183624\n",
      "Episode: 93, Score: 25.652499426621944, Max_Score: 25.652499426621944\n",
      "Episode: 94, Score: 26.29149941233918, Max_Score: 26.29149941233918\n",
      "Episode: 95, Score: 27.554999384097755, Max_Score: 27.554999384097755\n",
      "Episode: 96, Score: 26.55399940647185, Max_Score: 27.554999384097755\n",
      "Episode: 97, Score: 26.66199940405786, Max_Score: 27.554999384097755\n",
      "Episode: 98, Score: 27.316999389417468, Max_Score: 27.554999384097755\n",
      "Episode: 99, Score: 29.074999350123107, Max_Score: 29.074999350123107\n",
      "Episode: 100, Score: 27.59549938319251, Max_Score: 29.074999350123107\n",
      "Current average: 8.9703647995\n",
      "Episode: 101, Score: 27.47549938587472, Max_Score: 29.074999350123107\n",
      "Episode: 102, Score: 29.016999351419507, Max_Score: 29.074999350123107\n",
      "Episode: 103, Score: 26.906999398581682, Max_Score: 29.074999350123107\n",
      "Episode: 104, Score: 27.618999382667244, Max_Score: 29.074999350123107\n",
      "Episode: 105, Score: 28.533499362226575, Max_Score: 29.074999350123107\n",
      "Episode: 106, Score: 28.9919993519783, Max_Score: 29.074999350123107\n",
      "Episode: 107, Score: 28.31249936716631, Max_Score: 29.074999350123107\n",
      "Episode: 108, Score: 29.548499339539557, Max_Score: 29.548499339539557\n",
      "Episode: 109, Score: 28.939999353140593, Max_Score: 29.548499339539557\n",
      "Episode: 110, Score: 29.53549933983013, Max_Score: 29.548499339539557\n",
      "Current average: 11.809559736\n",
      "Episode: 111, Score: 28.968499352503567, Max_Score: 29.548499339539557\n",
      "Episode: 112, Score: 30.91799930892885, Max_Score: 30.91799930892885\n",
      "Episode: 113, Score: 30.304999322630465, Max_Score: 30.91799930892885\n",
      "Episode: 114, Score: 31.381499298568816, Max_Score: 31.381499298568816\n",
      "Episode: 115, Score: 32.80749926669523, Max_Score: 32.80749926669523\n",
      "Episode: 116, Score: 33.07499926071614, Max_Score: 33.07499926071614\n",
      "Episode: 117, Score: 33.83199924379587, Max_Score: 33.83199924379587\n",
      "Episode: 118, Score: 33.734499245975165, Max_Score: 33.83199924379587\n",
      "Episode: 119, Score: 33.06399926096201, Max_Score: 33.83199924379587\n",
      "Episode: 120, Score: 32.75699926782399, Max_Score: 33.83199924379587\n",
      "Current average: 14.988204665\n",
      "Episode: 121, Score: 33.836499243695286, Max_Score: 33.836499243695286\n",
      "Episode: 122, Score: 35.0924992156215, Max_Score: 35.0924992156215\n",
      "Episode: 123, Score: 33.67049924740568, Max_Score: 35.0924992156215\n",
      "Episode: 124, Score: 33.9589992409572, Max_Score: 35.0924992156215\n",
      "Episode: 125, Score: 34.77149922279641, Max_Score: 35.0924992156215\n",
      "Episode: 126, Score: 35.87149919820949, Max_Score: 35.87149919820949\n",
      "Episode: 127, Score: 35.92849919693545, Max_Score: 35.92849919693545\n",
      "Episode: 128, Score: 34.957499218638986, Max_Score: 35.92849919693545\n",
      "Episode: 129, Score: 35.374999209307134, Max_Score: 35.92849919693545\n",
      "Episode: 130, Score: 35.75749920075759, Max_Score: 35.92849919693545\n",
      "Current average: 18.3237995904\n",
      "Episode: 131, Score: 35.339999210089445, Max_Score: 35.92849919693545\n",
      "Episode: 132, Score: 36.960999173857275, Max_Score: 36.960999173857275\n",
      "Episode: 133, Score: 36.40849918620661, Max_Score: 36.960999173857275\n",
      "Episode: 134, Score: 36.67099918033928, Max_Score: 36.960999173857275\n",
      "Episode: 135, Score: 35.73199920132756, Max_Score: 36.960999173857275\n",
      "Episode: 136, Score: 35.73599920123816, Max_Score: 36.960999173857275\n",
      "Episode: 137, Score: 36.407999186217786, Max_Score: 36.960999173857275\n",
      "Episode: 138, Score: 34.69349922453985, Max_Score: 36.960999173857275\n",
      "Episode: 139, Score: 36.85199917629361, Max_Score: 36.960999173857275\n",
      "Episode: 140, Score: 34.58849922688678, Max_Score: 36.960999173857275\n",
      "Current average: 21.5709045179\n",
      "Episode: 141, Score: 34.351999232172965, Max_Score: 36.960999173857275\n",
      "Episode: 142, Score: 36.93599917441607, Max_Score: 36.960999173857275\n",
      "Episode: 143, Score: 34.775499222707005, Max_Score: 36.960999173857275\n",
      "Episode: 144, Score: 37.586499159876254, Max_Score: 37.586499159876254\n",
      "Episode: 145, Score: 36.33449918786064, Max_Score: 37.586499159876254\n",
      "Episode: 146, Score: 36.44099918548018, Max_Score: 37.586499159876254\n",
      "Episode: 147, Score: 36.55399918295443, Max_Score: 37.586499159876254\n",
      "Episode: 148, Score: 36.08749919338152, Max_Score: 37.586499159876254\n",
      "Episode: 149, Score: 36.888499175477776, Max_Score: 37.586499159876254\n",
      "Episode: 150, Score: 37.236499167699364, Max_Score: 37.586499159876254\n",
      "Current average: 24.6128544499\n",
      "Episode: 151, Score: 35.80549919968471, Max_Score: 37.586499159876254\n",
      "Episode: 152, Score: 36.84799917638302, Max_Score: 37.586499159876254\n",
      "Episode: 153, Score: 36.64349918095395, Max_Score: 37.586499159876254\n",
      "Episode: 154, Score: 35.52949920585379, Max_Score: 37.586499159876254\n",
      "Episode: 155, Score: 37.334499165508895, Max_Score: 37.586499159876254\n",
      "Episode: 156, Score: 37.49149916199967, Max_Score: 37.586499159876254\n",
      "Episode: 157, Score: 37.193499168660495, Max_Score: 37.586499159876254\n",
      "Episode: 158, Score: 36.890999175421896, Max_Score: 37.586499159876254\n",
      "Episode: 159, Score: 37.02149917250499, Max_Score: 37.586499159876254\n",
      "Episode: 160, Score: 36.56349918274209, Max_Score: 37.586499159876254\n",
      "Current average: 27.4207093871\n",
      "Episode: 161, Score: 37.14549916973338, Max_Score: 37.586499159876254\n",
      "Episode: 162, Score: 36.52999918349087, Max_Score: 37.586499159876254\n",
      "Episode: 163, Score: 37.39699916411191, Max_Score: 37.586499159876254\n",
      "Episode: 164, Score: 34.567499227356166, Max_Score: 37.586499159876254\n",
      "Episode: 165, Score: 36.82099917698652, Max_Score: 37.586499159876254\n",
      "Episode: 166, Score: 36.75099917855114, Max_Score: 37.586499159876254\n",
      "Episode: 167, Score: 36.556999182887374, Max_Score: 37.586499159876254\n",
      "Episode: 168, Score: 35.295999211072925, Max_Score: 37.586499159876254\n",
      "Episode: 169, Score: 34.718499223981055, Max_Score: 37.586499159876254\n",
      "Episode: 170, Score: 33.07849926063791, Max_Score: 37.586499159876254\n",
      "Current average: 29.9608043303\n",
      "Episode: 171, Score: 32.433499275054785, Max_Score: 37.586499159876254\n"
     ]
    }
   ],
   "source": [
    "agent = Agent(state_size = state_size, action_size = action_size, random_seed = 8)\n",
    "scores = deep_deterministic_policy_gradient()"
   ]
  },
  {
   "cell_type": "code",
   "execution_count": 9,
   "metadata": {},
   "outputs": [
    {
     "data": {
      "image/png": "[encoded data removed]",
      "text/plain": [
       "<matplotlib.figure.Figure at 0x7ffb58d0f0f0>"
      ]
     },
     "metadata": {
      "needs_background": "light"
     },
     "output_type": "display_data"
    }
   ],
   "source": [
    "import matplotlib.pyplot as plt\n",
    "\n",
    "# plot the 100 consecutive scores average\n",
    "plt.plot(scores)\n",
    "plt.show()"
   ]
  },
  {
   "cell_type": "code",
   "execution_count": 12,
   "metadata": {},
   "outputs": [
    {
     "data": {
      "text/plain": [
       "OrderedDict([('fc1.weight',\n",
       "              tensor([[-5.6920e-01,  4.9079e-01,  5.4036e-02,  ..., -9.8431e-01,\n",
       "                       -6.0770e-02, -1.6672e+00],\n",
       "                      [ 2.7951e-01, -6.7725e-01, -2.5012e-01,  ..., -5.3218e-01,\n",
       "                        4.0439e-02,  2.1862e+00],\n",
       "                      [-3.7487e-01,  1.0480e-01,  5.0113e-01,  ..., -2.6950e-01,\n",
       "                        2.3063e-02,  1.9591e+00],\n",
       "                      ...,\n",
       "                      [-1.4759e-01, -5.0917e-01,  2.5387e-01,  ..., -4.1037e-01,\n",
       "                        5.5372e-02, -1.4304e+00],\n",
       "                      [ 1.3944e-01,  5.6462e-01, -3.4015e-01,  ..., -9.9595e-01,\n",
       "                        5.6458e-02, -9.3357e-01],\n",
       "                      [-2.4218e-01,  9.2092e-01, -1.4550e-03,  ..., -8.5305e-01,\n",
       "                        1.7348e-02,  2.0568e+00]], device='cuda:0')),\n",
       "             ('fc1.bias',\n",
       "              tensor([-0.8780, -0.6347, -0.4072, -0.4306, -0.0360, -0.1937, -0.2483,\n",
       "                      -0.4026, -0.9695, -0.5470, -1.0217, -0.2116, -0.5566, -0.4480,\n",
       "                      -0.6704,  0.0420, -0.9672, -0.8519,  0.0162, -0.4331, -1.0689,\n",
       "                      -0.9969, -0.1786, -0.4867, -0.0374, -0.7278, -0.1235, -0.7662,\n",
       "                      -0.0871, -0.5577, -0.7177, -0.8978, -0.0116, -0.3615, -0.1693,\n",
       "                      -0.2118, -0.5880, -0.6689, -0.9070, -0.4624, -0.7815, -0.9103,\n",
       "                      -0.7183, -0.5070, -0.2958, -0.6239, -0.4885, -1.1190, -0.7704,\n",
       "                      -0.6886, -0.5966, -0.7176, -0.8204, -0.7907, -0.3098, -0.4268,\n",
       "                      -0.3448, -0.2894, -0.7499, -0.4877, -0.4442, -0.5070, -0.4585,\n",
       "                      -0.4958, -0.7314, -1.1019, -0.4349, -0.1242, -0.2599, -1.0474,\n",
       "                      -0.3951, -0.9027, -0.3458, -0.0467, -0.7380, -0.3815, -0.5050,\n",
       "                      -0.1960, -0.7861, -0.2117, -0.2521, -0.5338, -0.5043, -0.1455,\n",
       "                      -1.0506,  0.0279,  0.2610, -0.2629, -0.1636, -1.0519, -1.3036,\n",
       "                      -0.8933, -0.4002, -0.2295, -1.2444, -1.2286,  0.2270, -0.3620,\n",
       "                      -1.1239, -0.6843, -0.1940, -0.3817, -1.1665, -1.2541, -0.9395,\n",
       "                      -0.9985, -0.6266, -0.9888, -0.3810, -0.5751, -1.1974, -0.0234,\n",
       "                      -0.3228, -0.6623, -0.2719, -0.8499, -0.1708, -0.3559, -0.6600,\n",
       "                      -0.5661, -0.6093, -0.6231, -0.8231, -0.7003, -0.7469, -0.8580,\n",
       "                      -0.5110, -0.7711, -0.7923, -0.5878, -0.8447, -0.0048, -0.9650,\n",
       "                      -0.2757, -0.3198, -0.4422, -0.1301, -0.2465,  0.0252, -0.5304,\n",
       "                      -0.2376, -0.5182, -0.3584, -1.1117, -0.4424, -0.4661, -0.7072,\n",
       "                       0.4294, -0.2536,  0.1788, -1.1026, -0.5004, -0.7366, -0.8012,\n",
       "                      -0.0992, -0.9167, -0.3899, -0.3828, -0.8726, -0.8718, -0.3736,\n",
       "                      -0.2264, -0.4258, -0.9896, -0.0150,  0.0133, -0.4776, -0.8730,\n",
       "                      -0.5061, -0.2552, -0.9716, -0.7600, -0.1571,  0.0270, -0.6168,\n",
       "                      -0.8283, -0.2683, -0.9099, -0.7300, -0.6503, -0.7141, -0.7372,\n",
       "                      -0.7265, -0.0965, -0.5948, -0.8964, -0.2565, -0.3565,  0.0486,\n",
       "                      -0.2457, -0.6082, -0.2491, -0.2469, -0.9695, -0.7018, -1.1647,\n",
       "                      -0.4320, -1.2296, -0.2732, -0.8576, -0.7054, -0.5598, -0.4924,\n",
       "                      -0.6860, -0.4849, -0.5894, -0.6614, -0.0152, -0.2922, -0.7022,\n",
       "                      -0.7070, -0.9192,  0.1890, -1.3848, -0.1172, -0.9933, -1.1082,\n",
       "                      -0.8445, -0.8370, -0.2877,  0.0231, -0.5156, -0.5833, -0.4842,\n",
       "                      -0.7774, -1.2119, -0.8386, -0.9680, -0.6602, -0.7263, -0.0827,\n",
       "                      -0.3974, -0.1975, -0.5205, -0.3567,  0.0511, -0.3102, -0.6284,\n",
       "                      -0.8267, -0.7780, -0.8947, -0.0123, -0.6176, -0.8360, -0.3729,\n",
       "                      -0.5320, -0.6871, -0.2982, -0.0950, -0.4846, -0.9801, -0.3862,\n",
       "                      -0.7988, -0.2220, -0.9574, -0.8935], device='cuda:0')),\n",
       "             ('fc2.weight',\n",
       "              tensor([[-0.1728, -0.6119, -0.9047,  ..., -0.2006,  0.4874,  0.6743],\n",
       "                      [-1.1568,  0.0129, -0.1526,  ...,  1.4219, -0.6111,  0.8319],\n",
       "                      [-0.1696, -0.3157,  0.2525,  ...,  0.8567,  0.0997, -1.6409],\n",
       "                      [ 1.1774,  1.1895,  0.5074,  ..., -1.2255, -0.8505, -1.4549]], device='cuda:0')),\n",
       "             ('fc2.bias',\n",
       "              tensor([ 0.1566, -0.2848, -0.0714, -0.0623], device='cuda:0'))])"
      ]
     },
     "execution_count": 12,
     "metadata": {},
     "output_type": "execute_result"
    }
   ],
   "source": [
    "# test loading the weights\n",
    "torch.load('actor_weights.pth')"
   ]
  }
 ],
 "metadata": {
  "kernelspec": {
   "display_name": "Python 3",
   "language": "python",
   "name": "python3"
  },
  "language_info": {
   "codemirror_mode": {
    "name": "ipython",
    "version": 3
   },
   "file_extension": ".py",
   "mimetype": "text/x-python",
   "name": "python",
   "nbconvert_exporter": "python",
   "pygments_lexer": "ipython3",
   "version": "3.7.5"
  }
 },
 "nbformat": 4,
 "nbformat_minor": 2
}
